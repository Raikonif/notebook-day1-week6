{
 "cells": [
  {
   "cell_type": "code",
   "execution_count": 12,
   "metadata": {},
   "outputs": [],
   "source": [
    "#\n",
    "# scenario 1: I can find both: start_section '1. Summary', end_section '2. Participants' in the data list\n",
    "\n",
    "# scenario 2: I can find only: start_section '1. Summary', but cannot find end_section '2. Participants' in the data list\n",
    "# scenario 3: I cannot find: start_section '1. Summary', but I can find end_section '2. Participants' in the data list\n",
    "# scenario 4: I cannot find any: start_section '1. Summary', '2. Participants'\n",
    "\n",
    "# TODO: Refactor\n",
    "# This function has 2 responsabilities\n",
    "# 1, determine the start_section/end_section indexes (positions)\n",
    "# 2, extract data between start_section/end_section indexes\n",
    "\n",
    "def extract_section_rows(data, start_section, end_section=None):\n",
    "    start_end = [index for index, row in enumerate(data) if start_section in row or end_section in row]\n",
    "    print(\"start_end\", start_end)\n",
    "    \n",
    "    if len(start_end) == 0:\n",
    "        return\n",
    "    \n",
    "    # [0] --> index based access is dangerous?? \n",
    "    for index, row in enumerate(data):\n",
    "        if len(start_end)  == 2:\n",
    "            return [(index, row) for index, row in enumerate(data) if row != [] and index > start_end[0] and index < start_end[1]]\n",
    "        elif len(start_end) == 1:\n",
    "            return [(index, row) for index, row in enumerate(data) if row != [] and index > start_end[0]]\n",
    "\n",
    "\n",
    "        #  if row != [] and index > start_end[0] and index < start_end[1]:\n",
    "\n",
    "``\n",
    "    # return [(index, row) for index, row in enumerate(data) if row != [] and index > start_end[0] and index < start_end[1]]"
   ]
  },
  {
   "cell_type": "code",
   "execution_count": 7,
   "metadata": {},
   "outputs": [
    {
     "name": "stdout",
     "output_type": "stream",
     "text": [
      "[0, 7]\n"
     ]
    },
    {
     "data": {
      "text/plain": [
       "[(1, ['Meeting title', 'Practice Modulo 1 - Grupo 4']),\n",
       " (2, ['Start time', '10/10/22, 5:37:48 PM']),\n",
       " (3, ['End time', '10/10/22, 5:38:21 PM']),\n",
       " (4, ['Meeting duration', '33s']),\n",
       " (5, ['Average attendance time', '26s'])]"
      ]
     },
     "execution_count": 7,
     "metadata": {},
     "output_type": "execute_result"
    }
   ],
   "source": [
    "data = [\n",
    "        ['1. Summary'], \n",
    "        ['Meeting title', 'Practice Modulo 1 - Grupo 4'], \n",
    "        ['Start time', '10/10/22, 5:37:48 PM'], \n",
    "        ['End time', '10/10/22, 5:38:21 PM'], \n",
    "        ['Meeting duration', '33s'], \n",
    "        ['Average attendance time', '26s'],\n",
    "        [],\n",
    "        ['2. Participants'],\n",
    "        ['Name', 'First join', 'Last leave', 'In-meeting duration', 'Email', 'Participant ID (UPN)', 'Role'], \n",
    "        ['Diego Terrazas Sanchez', '10/10/22, 5:37:54 PM', '10/10/22, 5:38:21 PM', '26s', 'Diego.Terrazas@fundacion-jala.org', 'Diego.Terrazas@fundacion-jala.org', 'Presenter'], \n",
    "        [], \n",
    "        ['3. In-Meeting activities'], \n",
    "        ['Name', 'Join time', 'Leave time', 'Duration', 'Email', 'Role'], \n",
    "        ['Diego Terrazas Sanchez', '10/10/22, 5:37:54 PM', '10/10/22, 5:38:21 PM', '26s', 'Diego.Terrazas@fundacion-jala.org', 'Presenter']\n",
    "    ]\n",
    "    \n",
    "section = extract_section_rows(data, '1. Summary', '2. Participants')\n",
    "section"
   ]
  },
  {
   "cell_type": "code",
   "execution_count": 9,
   "metadata": {},
   "outputs": [
    {
     "name": "stdout",
     "output_type": "stream",
     "text": [
      "[7, 11]\n"
     ]
    },
    {
     "data": {
      "text/plain": [
       "[(8,\n",
       "  ['Name',\n",
       "   'First join',\n",
       "   'Last leave',\n",
       "   'In-meeting duration',\n",
       "   'Email',\n",
       "   'Participant ID (UPN)',\n",
       "   'Role']),\n",
       " (9,\n",
       "  ['Diego Terrazas Sanchez',\n",
       "   '10/10/22, 5:37:54 PM',\n",
       "   '10/10/22, 5:38:21 PM',\n",
       "   '26s',\n",
       "   'Diego.Terrazas@fundacion-jala.org',\n",
       "   'Diego.Terrazas@fundacion-jala.org',\n",
       "   'Presenter'])]"
      ]
     },
     "execution_count": 9,
     "metadata": {},
     "output_type": "execute_result"
    }
   ],
   "source": [
    "section = extract_section_rows(data, '2. Participants', '3. In-Meeting activities')\n",
    "section"
   ]
  },
  {
   "cell_type": "code",
   "execution_count": 14,
   "metadata": {},
   "outputs": [
    {
     "name": "stdout",
     "output_type": "stream",
     "text": [
      "start_end [11]\n"
     ]
    },
    {
     "data": {
      "text/plain": [
       "[(12, ['Name', 'Join time', 'Leave time', 'Duration', 'Email', 'Role']),\n",
       " (13,\n",
       "  ['Diego Terrazas Sanchez',\n",
       "   '10/10/22, 5:37:54 PM',\n",
       "   '10/10/22, 5:38:21 PM',\n",
       "   '26s',\n",
       "   'Diego.Terrazas@fundacion-jala.org',\n",
       "   'Presenter'])]"
      ]
     },
     "execution_count": 14,
     "metadata": {},
     "output_type": "execute_result"
    }
   ],
   "source": [
    "section = extract_section_rows(data, '3. In-Meeting activities', '')\n",
    "section"
   ]
  },
  {
   "cell_type": "code",
   "execution_count": null,
   "metadata": {},
   "outputs": [],
   "source": [
    "raw_data = {\n",
    "    'Meeting title': 'Practice Modulo 1 - Grupo 4',\n",
    "    'Attended participants': '1',\n",
    "    'Start time': '10/10/22, 5:37:48 PM',\n",
    "    'End time': '10/10/22, 5:38:21 PM',\n",
    "    'Meeting duration': '33s',\n",
    "    'Average attendance time': '26s'\n",
    "}"
   ]
  },
  {
   "cell_type": "code",
   "execution_count": 15,
   "metadata": {},
   "outputs": [],
   "source": [
    "def update_key_name(actual, key_mapping):\n",
    "    pass\n",
    "\n",
    "def add_id_value(new_dict, value):\n",
    "    return \n",
    "\n",
    "def convert_duration_str_to_dict(duration_str):\n",
    "    return dict()\n",
    "\n",
    "\n",
    "def normalize_summary(raw_data):\n",
    "    result = expected_summary = {\n",
    "        'Title': 'Practice Modulo 1 - Grupo 4',\n",
    "        'Id': 'Practice Modulo 1 - Grupo 4',\n",
    "        'Attended participants': 1,\n",
    "        'Start Time': '10/10/22, 5:37:48 PM',\n",
    "        'End Time': '10/10/22, 5:38:21 PM',\n",
    "        'Duration': {\n",
    "            'hours': 0,\n",
    "            'minutes': 0,\n",
    "            'seconds': 33\n",
    "        }\n",
    "    }\n",
    "\n",
    "    ## Change key names\n",
    "    mapping_dict = {\n",
    "        'Meeting title': 'Title',\n",
    "        'Attended participants': 'Attended participants',\n",
    "    }\n",
    "\n",
    "    ## Add NEW key:value (s)\n",
    "    # Add Id key yo new dict \n",
    "    # Value of Id key is same as 'Meeting title'\n",
    "\n",
    "    ## Convert 'Meeting duration': '33s', into Duration Object\n",
    "\n"
   ]
  },
  {
   "cell_type": "code",
   "execution_count": null,
   "metadata": {},
   "outputs": [],
   "source": []
  }
 ],
 "metadata": {
  "kernelspec": {
   "display_name": "Python 3.10.5 ('app': venv)",
   "language": "python",
   "name": "python3"
  },
  "language_info": {
   "codemirror_mode": {
    "name": "ipython",
    "version": 3
   },
   "file_extension": ".py",
   "mimetype": "text/x-python",
   "name": "python",
   "nbconvert_exporter": "python",
   "pygments_lexer": "ipython3",
   "version": "3.10.5"
  },
  "orig_nbformat": 4,
  "vscode": {
   "interpreter": {
    "hash": "a0cf646eb95580e3d434a8852a30842e4ac48d3b1285011fe3b655a88ea708f8"
   }
  }
 },
 "nbformat": 4,
 "nbformat_minor": 2
}
