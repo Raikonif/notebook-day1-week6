{
 "cells": [
  {
   "cell_type": "code",
   "execution_count": 12,
   "metadata": {},
   "outputs": [],
   "source": [
    "class Duration:\n",
    "    \n",
    "    # Every Object to class Duration, is contructed by passing this values  hours, minutes, seconds\n",
    "    def __init__(self, hours, minutes, seconds):\n",
    "        # atributes/propiedades of \"Duration\" class\n",
    "        self.hours = hours\n",
    "        self.minutes = hours\n",
    "        self.seconds = hours\n",
    "\n",
    "    # __str__ magic function\n",
    "    # f-string -> f\"\"\n",
    "    def __str__(self):\n",
    "        return f\"{self.hours}h {self.minutes}m {self.minutes}s\"\n"
   ]
  },
  {
   "cell_type": "code",
   "execution_count": 15,
   "metadata": {},
   "outputs": [
    {
     "name": "stdout",
     "output_type": "stream",
     "text": [
      "10h 10m 10s <class '__main__.Duration'>\n",
      "10 10\n",
      "True\n"
     ]
    }
   ],
   "source": [
    "# Objeto o Instancia existe cuando llamo al contructor de la clase\n",
    "d1 = Duration(10, 20, 30)\n",
    "\n",
    "print(d1, type(d1))\n",
    "\n",
    "print(d1.hours, d1.hours)\n",
    "\n",
    "\n",
    "print(isinstance(d1, Duration))\n"
   ]
  },
  {
   "cell_type": "code",
   "execution_count": 20,
   "metadata": {},
   "outputs": [],
   "source": [
    "class Participant:\n",
    "    \n",
    "    def __init__(self, full_name: str, duration: Duration):\n",
    "        self.full_name = full_name\n",
    "        self.duration = duration"
   ]
  },
  {
   "cell_type": "code",
   "execution_count": null,
   "metadata": {},
   "outputs": [],
   "source": [
    "participant = Participant(\"abc\", Duration(1, 0, 0))"
   ]
  },
  {
   "cell_type": "code",
   "execution_count": null,
   "metadata": {},
   "outputs": [],
   "source": [
    "# MINIMIZAR ESTO (casi 0 veces)\n",
    "# es preferible \"dejar\" afuera la responsabilidad de crear otros objetos fuera del constructor\n",
    "# para evitar dependencias fuertes, y problemas a momento de unit testear creacion de objetos \n",
    "# en lugar de pasar hours, minutes, seconds, PREFIERO encapsular esos tres atribs en un clase y pasar un objeto\n",
    "# de la clase como parametro al contructor\n",
    "class Participant:\n",
    "    \n",
    "    def __init__(self, full_name: str, hours, minutes, seconds):\n",
    "        self.full_name = full_name\n",
    "        self.duration = Duration( hours, minutes, seconds)"
   ]
  },
  {
   "cell_type": "code",
   "execution_count": 18,
   "metadata": {},
   "outputs": [
    {
     "name": "stdout",
     "output_type": "stream",
     "text": [
      "<__main__.Participant object at 0x10e146920> <class '__main__.Participant'>\n"
     ]
    },
    {
     "ename": "AttributeError",
     "evalue": "'dict' object has no attribute 'hours'",
     "output_type": "error",
     "traceback": [
      "\u001b[0;31m---------------------------------------------------------------------------\u001b[0m",
      "\u001b[0;31mAttributeError\u001b[0m                            Traceback (most recent call last)",
      "Cell \u001b[0;32mIn [18], line 5\u001b[0m\n\u001b[1;32m      1\u001b[0m participant \u001b[39m=\u001b[39m Participant(\u001b[39m\"\u001b[39m\u001b[39mabc\u001b[39m\u001b[39m\"\u001b[39m, {\u001b[39m\"\u001b[39m\u001b[39mhours\u001b[39m\u001b[39m\"\u001b[39m: \u001b[39m10\u001b[39m, \u001b[39m\"\u001b[39m\u001b[39mminutes\u001b[39m\u001b[39m\"\u001b[39m: \u001b[39m0\u001b[39m, \u001b[39m\"\u001b[39m\u001b[39mseconds\u001b[39m\u001b[39m\"\u001b[39m: \u001b[39m45\u001b[39m})\n\u001b[1;32m      2\u001b[0m \u001b[39mprint\u001b[39m(participant, \u001b[39mtype\u001b[39m(participant))\n\u001b[0;32m----> 5\u001b[0m \u001b[39mprint\u001b[39m(participant\u001b[39m.\u001b[39;49mduration\u001b[39m.\u001b[39;49mhours)\n",
      "\u001b[0;31mAttributeError\u001b[0m: 'dict' object has no attribute 'hours'"
     ]
    }
   ],
   "source": [
    "participant = Participant(\"abc\", {\"hours\": 10, \"minutes\": 0, \"seconds\": 45})\n",
    "print(participant, type(participant))\n",
    "\n",
    "\n",
    "print(participant.duration.hours)\n"
   ]
  },
  {
   "cell_type": "code",
   "execution_count": 19,
   "metadata": {},
   "outputs": [
    {
     "name": "stdout",
     "output_type": "stream",
     "text": [
      "<__main__.Participant object at 0x10e144070> <class '__main__.Participant'>\n",
      "1\n"
     ]
    }
   ],
   "source": [
    "participant = Participant(\"abc\", Duration(1, 0, 0))\n",
    "print(participant, type(participant))\n",
    "\n",
    "\n",
    "print(participant.duration.hours)"
   ]
  },
  {
   "cell_type": "markdown",
   "metadata": {},
   "source": [
    "Abstraction\n",
    "- una clase modela/abstrae CARACTERISTICA(S) = Dato(s) (state, characteristics) y COMPORTAMIENTOS (BEHAVIOURS) de un algo del mundo, del contexto\n",
    "\n",
    "\n",
    "Encapsulacion\n",
    "- El acceso esta controlado a los miembros: attributos/propiedades y metodos de una class\n",
    "- En la mayor de los lenguajes se logra con modificadores de acceso: private, protected, public\n",
    "- Los datos=atributos (private o protected) y la unica forma que tienen  el mundo fuera de la clase para leer/escribir es  a traves de metodos\n",
    "- Popiedades con getters (leer) y setters (escribir) -> (metodos por debajo que el dev no implementa)\n",
    "\n",
    "En Python\n",
    "- No existen  modificadores de acceso\n",
    "- TODO (atribs, methods) son public by default (Gracias al self.)\n",
    "- ES MUY USUAL LEER/MODIFICAR atributos directamente usando objeto.atributo o objeto.metodo()\n",
    "\n",
    "CONVENCIONES (comunican pero no se aplican) a nivel de codigo\n",
    "- si quieres decir o comunicar \"este atrib es private\"  `self.__nombre`, de todas formas puede leer y modificar directamente `self.__nombre`, y probablemente hay un metodo que lee o escribe en el atributo `self.__nombre`\n",
    "- NO TODO se lee y se modifica; PREGUNTARSE siempre si solo quiero leer o escribir o leer/escribir"
   ]
  }
 ],
 "metadata": {
  "kernelspec": {
   "display_name": "Python 3.10.7 64-bit",
   "language": "python",
   "name": "python3"
  },
  "language_info": {
   "codemirror_mode": {
    "name": "ipython",
    "version": 3
   },
   "file_extension": ".py",
   "mimetype": "text/x-python",
   "name": "python",
   "nbconvert_exporter": "python",
   "pygments_lexer": "ipython3",
   "version": "3.10.7"
  },
  "orig_nbformat": 4,
  "vscode": {
   "interpreter": {
    "hash": "aee8b7b246df8f9039afb4144a1f6fd8d2ca17a180786b69acc140d282b71a49"
   }
  }
 },
 "nbformat": 4,
 "nbformat_minor": 2
}
